{
 "cells": [
  {
   "cell_type": "markdown",
   "id": "4cea96d3",
   "metadata": {},
   "source": [
    "Initialize:\n",
    "- K: number of clusters\n",
    "- Data: the input dataset\n",
    "- Randomly select K initial centroids\n",
    "\n",
    "Repeat:\n",
    "- Assign each data point to the nearest centroid (based on Euclidean distance)\n",
    "- Calculate the mean of each cluster to update its centroid\n",
    "- Check if the centroids have converged (i.e., they no longer change)\n",
    "\n",
    "Until:\n",
    "- The centroids have converged\n",
    "- The maximum number of iterations has been reached\n",
    "\n",
    "Output:\n",
    "- The final K clusters and their corresponding centroids"
   ]
  },
  {
   "cell_type": "code",
   "execution_count": null,
   "id": "6e3c9a17",
   "metadata": {},
   "outputs": [],
   "source": []
  }
 ],
 "metadata": {
  "language_info": {
   "name": "python"
  }
 },
 "nbformat": 4,
 "nbformat_minor": 5
}
