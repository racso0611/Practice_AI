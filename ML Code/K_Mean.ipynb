{
 "cells": [
  {
   "cell_type": "markdown",
   "id": "4cea96d3",
   "metadata": {},
   "source": [
    "Initialize:\n",
    "- K: number of clusters\n",
    "- Data: the input dataset X\n",
    "- Randomly select K initial centroids\n",
    "\n",
    "Repeat:\n",
    "- Assign each data point to the nearest centroid (based on Euclidean distance)\n",
    "- Calculate the mean of each cluster to update its centroid\n",
    "- Check if the centroids have converged (i.e., they no longer change)\n",
    "\n",
    "Until:\n",
    "- The centroids have converged\n",
    "- The maximum number of iterations has been reached\n",
    "\n",
    "Output:\n",
    "- The final K clusters and their corresponding centroids"
   ]
  },
  {
   "cell_type": "code",
   "execution_count": 1,
   "id": "6e3c9a17",
   "metadata": {},
   "outputs": [],
   "source": [
    "import numpy as np\n",
    "class KMeans:\n",
    "    def __init__(self, k, max_iters=100):\n",
    "        self.k = k\n",
    "        self.max_iters = max_iters\n",
    "\n",
    "    def fit(self, X):\n",
    "        n_samples, n_features = X.shape\n",
    "        # Randomly initialize the centroid\n",
    "        self.centroids = X[np.random.choice(n_samples, self.k, replace=False)]\n",
    "        for _ in range(self.max_iters):\n",
    "            # Assign clusters based on closest centroid\n",
    "            distances = np.linalg.norm(X[:, np.newaxis] - self.centroids, axis=2)\n",
    "            labels = np.argmin(distances, axis=1)\n",
    "\n",
    "            # Calculate new centroids\n",
    "            new_centroids = np.array([X[labels == i].mean(axis=0) for i in range(self.k)])\n",
    "            \n",
    "            # Check for convergence\n",
    "            if np.all(new_centroids == self.centroids):\n",
    "                break\n",
    "            \n",
    "            self.centroids = new_centroids\n",
    "\n",
    "        return labels\n",
    "    def predict(self, X):\n",
    "        distances = np.linalg.norm(X[:, np.newaxis] - self.centroids, axis=2)\n",
    "        return np.argmin(distances, axis=1)\n",
    "    "
   ]
  },
  {
   "cell_type": "code",
   "execution_count": 4,
   "id": "46a4f5e3",
   "metadata": {},
   "outputs": [
    {
     "name": "stdout",
     "output_type": "stream",
     "text": [
      "[1 1 1 1 1 0 0 0 0 0]\n",
      "[[-5.21784955 -5.30934158]\n",
      " [ 5.46007813  5.10537184]]\n"
     ]
    }
   ],
   "source": [
    "x1 = np.random.randn(5,2) + 5\n",
    "x2 = np.random.randn(5,2) - 5\n",
    "X = np.concatenate([x1,x2], axis=0)\n",
    "\n",
    "# Initialize the KMeans object with k=3\n",
    "kmeans = KMeans(k=2)\n",
    "\n",
    "# Fit the k-means model to the dataset\n",
    "kmeans.fit(X)\n",
    "\n",
    "# Get the cluster assignments for the input dataset\n",
    "cluster_assignments = kmeans.predict(X)\n",
    "\n",
    "# Print the cluster assignments\n",
    "print(cluster_assignments)\n",
    "\n",
    "# Print the learned centroids\n",
    "print(kmeans.centroids)"
   ]
  },
  {
   "cell_type": "code",
   "execution_count": 5,
   "id": "55161b4f",
   "metadata": {},
   "outputs": [
    {
     "data": {
      "image/png": "[encoded data removed]",
      "text/plain": [
       "<Figure size 640x480 with 1 Axes>"
      ]
     },
     "metadata": {},
     "output_type": "display_data"
    }
   ],
   "source": [
    "from matplotlib import pyplot as plt\n",
    "# Plot the data points with different colors based on their cluster assignments\n",
    "colors = ['r', 'b']\n",
    "for i in range(kmeans.k):\n",
    "    plt.scatter(X[np.where(np.array(cluster_assignments) == i)][:,0], \n",
    "                X[np.where(np.array(cluster_assignments) == i)][:,1], \n",
    "                color=colors[i])\n",
    "\n",
    "# Plot the centroids as black circles\n",
    "plt.scatter(kmeans.centroids[:,0], kmeans.centroids[:,1], color='black', marker='o')\n",
    "\n",
    "# Show the plot\n",
    "plt.show()"
   ]
  }
 ],
 "metadata": {
  "kernelspec": {
   "display_name": "Python 3 (ipykernel)",
   "language": "python",
   "name": "python3"
  },
  "language_info": {
   "codemirror_mode": {
    "name": "ipython",
    "version": 3
   },
   "file_extension": ".py",
   "mimetype": "text/x-python",
   "name": "python",
   "nbconvert_exporter": "python",
   "pygments_lexer": "ipython3",
   "version": "3.12.1"
  }
 },
 "nbformat": 4,
 "nbformat_minor": 5
}
