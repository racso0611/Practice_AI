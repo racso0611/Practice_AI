{
 "cells": [
  {
   "cell_type": "markdown",
   "id": "70d7f154",
   "metadata": {},
   "source": [
    "## Linear Regression:\n",
    "$y=mx+b$"
   ]
  },
  {
   "cell_type": "markdown",
   "id": "6ee83859",
   "metadata": {},
   "source": [
    "### Simple Linear Regression:\n",
    "### Code:"
   ]
  },
  {
   "cell_type": "code",
   "execution_count": 19,
   "id": "daba9cfe",
   "metadata": {},
   "outputs": [],
   "source": [
    "import numpy as np\n",
    "class LinearRegression:\n",
    "    def __init__(self):\n",
    "        self.coefficients = None\n",
    "\n",
    "    def fit(self, X, y):\n",
    "        X = np.array(X)\n",
    "        y = np.array(y)\n",
    "        # Add a bias term (intercept) to the input features\n",
    "        X_b = np.c_[np.ones((X.shape[0], 1)), X]\n",
    "        # Calculate coefficients using the Normal Equation\n",
    "        self.coefficients = np.linalg.inv(X_b.T @ X_b) @ X_b.T @ y\n",
    "\n",
    "    def predict(self, X):\n",
    "        X = np.array(X)\n",
    "        # Add a bias term (intercept) to the input features\n",
    "        X_b = np.c_[np.ones((X.shape[0], 1)), X]\n",
    "        return X_b @ self.coefficients"
   ]
  },
  {
   "cell_type": "markdown",
   "id": "800a4a44",
   "metadata": {},
   "source": [
    "### Test Example"
   ]
  },
  {
   "cell_type": "code",
   "execution_count": 20,
   "id": "5a074484",
   "metadata": {},
   "outputs": [
    {
     "name": "stdout",
     "output_type": "stream",
     "text": [
      "[2.2 0.6]\n",
      "[2.8 3.4 4.  4.6 5.2]\n"
     ]
    }
   ],
   "source": [
    "X = np.array([1, 2, 3, 4, 5])\n",
    "y = np.array([2, 4, 5, 4, 5])\n",
    "lr = LinearRegression()\n",
    "lr.fit(X, y)\n",
    "print(lr.coefficients)  # Output: 2.2, 0.6\n",
    "y_pred = lr.predict(X)\n",
    "print(y_pred)  # Output: [2.8, 3.4, 4.0, 4.6, 5.2]\n",
    "\n",
    "\n",
    "# print(f\"The value of x is {x:.2f}\")"
   ]
  }
 ],
 "metadata": {
  "kernelspec": {
   "display_name": "Python 3 (ipykernel)",
   "language": "python",
   "name": "python3"
  },
  "language_info": {
   "codemirror_mode": {
    "name": "ipython",
    "version": 3
   },
   "file_extension": ".py",
   "mimetype": "text/x-python",
   "name": "python",
   "nbconvert_exporter": "python",
   "pygments_lexer": "ipython3",
   "version": "3.12.1"
  }
 },
 "nbformat": 4,
 "nbformat_minor": 5
}
